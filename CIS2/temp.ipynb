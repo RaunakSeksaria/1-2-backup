{
  "nbformat": 4,
  "nbformat_minor": 0,
  "metadata": {
    "colab": {
      "provenance": []
    },
    "kernelspec": {
      "name": "python3",
      "display_name": "Python 3"
    },
    "language_info": {
      "name": "python"
    }
  },
  "cells": [
    {
      "cell_type": "code",
      "execution_count": null,
      "metadata": {
        "id": "-tUWRz_6cDtR"
      },
      "outputs": [],
      "source": []
    },
    {
      "cell_type": "markdown",
      "source": [
        "# Assignment: Basic Python Concepts\n",
        "## Problem: Variables and Data Types\n",
        "Create a Python script that does the following:\n",
        "\n",
        "1. Defines a variable x and assigns it an integer value.\n",
        "2. Defines a variable y and assigns it a floating-point value.\n",
        "3. Defines a variable z and assigns it a string value.\n",
        "4. Defines a variable a and assigns it a boolean value.\n",
        "5. Prints the value and data type of each variable.\n"
      ],
      "metadata": {
        "id": "PQmVPtLWiKue"
      }
    },
    {
      "cell_type": "code",
      "source": [],
      "metadata": {
        "id": "d0fxu9u9iyWu"
      },
      "execution_count": null,
      "outputs": []
    },
    {
      "cell_type": "markdown",
      "source": [
        "# Problem: Control Structures\n",
        "## Create a Python script that does the following:\n",
        "\n",
        "1. Defines a list of integers from 1 to 10.\n",
        "2. Uses a for loop to print each element of the list.\n",
        "3. Uses a while loop to print the sum of the elements in the list.\n"
      ],
      "metadata": {
        "id": "zs6qX6NJiphd"
      }
    },
    {
      "cell_type": "code",
      "source": [],
      "metadata": {
        "id": "XBMAF7Jziz4G"
      },
      "execution_count": null,
      "outputs": []
    },
    {
      "cell_type": "markdown",
      "source": [
        "# Problem Set: Matplotlib Basics\n"
      ],
      "metadata": {
        "id": "a2C5gRxvjRGk"
      }
    },
    {
      "cell_type": "markdown",
      "source": [
        "## Problem : Line Plot\n",
        "\n",
        "Create a Python script that does the following:\n",
        "\n",
        "1. Imports the matplotlib.pyplot module as plt.\n",
        "2. Defines a list of x-values from 0 to 10 (inclusive).\n",
        "3. Defines a list of y-values as the square of each x-value in the list.\n",
        "4. Uses the plot function to create a line plot of the x and y values.\n",
        "5. Labels the x-axis as \"x-axis\" and the y-axis as \"y-axis\".\n",
        "6. Sets the title of the plot as \"Line Plot\".\n",
        "7. Saves the plot as a PNG file named \"line_plot.png\".\n"
      ],
      "metadata": {
        "id": "wcCYiSC0idj4"
      }
    },
    {
      "cell_type": "code",
      "source": [],
      "metadata": {
        "id": "GZn4nJugjPBp"
      },
      "execution_count": null,
      "outputs": []
    },
    {
      "cell_type": "markdown",
      "source": [
        "## Problem:  Bar chart\n",
        "Create a Python script that does the following:\n",
        "\n",
        "1. Imports the matplotlib.pyplot module as plt.\n",
        "2. Defines a list of labels as the names of five different fruits.\n",
        "3. Defines a list of values as the number of fruits in stock.\n",
        "4. Uses the bar function to create a bar chart of the labels and values.\n",
        "5. Labels the x-axis as \"Fruits\" and the y-axis as \"Stock\".\n",
        "6. Sets the title of the plot as \"Fruit Stock\".\n",
        "7. \n",
        "\n",
        "```\n",
        "# This is formatted as code\n",
        "```\n",
        "\n",
        "Saves the plot as a PNG file named \"bar_chart.png\".\n"
      ],
      "metadata": {
        "id": "k0-Cx8_Uidk1"
      }
    },
    {
      "cell_type": "code",
      "source": [],
      "metadata": {
        "id": "Jog4NxE_jhtO"
      },
      "execution_count": null,
      "outputs": []
    },
    {
      "cell_type": "markdown",
      "source": [
        "## Problem: Scatter Plot\n",
        "\n",
        "Create a Python script that does the following:\n",
        "\n",
        "1. Imports the matplotlib.pyplot module as plt.\n",
        "2.Defines two lists of values, x and y, each with ten randomly generated values between 0 and 1.\n",
        "4. Uses the scatter function to create a scatter plot of the x and y values.\n",
        "4,Labels the x-axis as \"x-axis\" and the y-axis as \"y-axis\".\n",
        "5. Sets the title of the plot as \"Scatter Plot\".\n",
        "6. Saves the plot as a PNG file named \"scatter_plot.png\"."
      ],
      "metadata": {
        "id": "1ceo50S-jsXh"
      }
    },
    {
      "cell_type": "code",
      "source": [],
      "metadata": {
        "id": "0wg-8YDpjz__"
      },
      "execution_count": null,
      "outputs": []
    },
    {
      "cell_type": "markdown",
      "source": [
        "# Problem set Numpy Basics\n"
      ],
      "metadata": {
        "id": "FF2EGm97j1rj"
      }
    },
    {
      "cell_type": "markdown",
      "source": [
        "## Problem 1: Creating Arrays\n",
        "Create a Python script that does the following:\n",
        "\n",
        "1. Imports the numpy module as np.\n",
        "1.Defines a 1-dimensional NumPy array of integers from 0 to 9 (inclusive).\n",
        "1.Defines a 2-dimensional NumPy array of integers with shape (2, 3) and with the following values:\n",
        "[[1, 2, 3],\n",
        " [4, 5, 6]]\n",
        "1.Prints the shape and data type of each array.\n",
        "\n",
        "Example output:\n",
        "\n",
        "1D array: [0 1 2 3 4 5 6 7 8 9]\n",
        "\n",
        "Shape: (10,)\n",
        "\n",
        "Data Type: int64\n",
        "\n",
        "2D array:\n",
        "\n",
        "[[1 2 3] \\\\\n",
        " [4 5 6]]\n",
        "\n",
        "Shape: (2, 3)\n",
        "\n",
        "Data Type: int64\n",
        "\n",
        "## Problem 2: Array Operations\n",
        "Create a Python script that does the following:\n",
        "\n",
        "1. Imports the numpy module as np.\n",
        "2. Defines two 1-dimensional NumPy arrays of integers with the same length.\n",
        "3. Computes the element-wise sum, difference, product, and quotient of the two arrays.\n",
        "4. Computes the dot product of the two arrays.\n",
        "5. Prints the results of each computation.\n",
        "\n",
        "Example output:\n",
        "\n",
        "\n",
        "Array 1: [1 2 3]\n",
        "\n",
        "Array 2: [4 5 6]\n",
        "\n",
        "Element-wise sum: [5 7 9]\n",
        "\n",
        "Element-wise difference: [-3 -3 -3]\n",
        "\n",
        "Element-wise product: [ 4 10 18]\n",
        "\n",
        "Element-wise quotient: [0.25 0.4 0.5]\n",
        "\n",
        "Dot product: 32\n",
        "\n",
        "# Problem 3: Array Indexing and Slicing\n",
        "Create a Python script that does the following:\n",
        "\n",
        "1.Imports the numpy module as np.\n",
        "2. Defines a 2-dimensional NumPy array of integers with shape (3, 3) and with the following values:\n",
        "\n",
        "[[1, 2, 3], \\\\\n",
        " [4, 5, 6], \\\\\n",
        " [7, 8, 9]] \n",
        "\n",
        "3. Uses indexing to print the value of the element in the second row and third column.\n",
        "4. Uses slicing to print the first two rows and first two columns of the array.\n",
        "5. Uses slicing to print the last two rows and last two columns of the array.\n",
        "6. Uses slicing to print the middle row and middle column of the array.\n",
        "\n",
        "\n",
        "# Problem 4: Random Number Generation\n",
        "Create a Python script that does the following:\n",
        "\n",
        "1. Imports the numpy module as np.\n",
        "2. Generates an array of 10 random integers between 1 and 100 (inclusive).\n",
        "3. Prints the array.\n",
        "4. Computes the mean and standard deviation of the array.\n",
        "5. Prints the mean and standard deviation"
      ],
      "metadata": {
        "id": "zn5REHJWj85_"
      }
    }
  ]
}
